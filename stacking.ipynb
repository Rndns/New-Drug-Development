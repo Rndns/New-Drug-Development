{
 "cells": [
  {
   "cell_type": "code",
   "execution_count": 255,
   "metadata": {},
   "outputs": [],
   "source": [
    "import sys\n",
    "import pandas as pd\n",
    "import numpy as np\n",
    "import os\n",
    "import operator\n",
    "import string\n",
    "import re\n",
    "import random\n",
    "import warnings\n",
    "warnings.filterwarnings('ignore')\n",
    "import platform\n",
    "import json, pickle\n",
    "from collections import defaultdict\n",
    "from scipy import stats\n",
    "\n",
    "import sklearn as sk\n",
    "from sklearn.utils import check_random_state\n",
    "from sklearn.preprocessing import MinMaxScaler, StandardScaler, RobustScaler\n",
    "from sklearn.model_selection import train_test_split, KFold, GridSearchCV, PredefinedSplit\n",
    "from sklearn.metrics import mean_squared_error\n",
    "from sklearn.multioutput import MultiOutputRegressor, RegressorChain\n",
    "from sklearn.ensemble import VotingRegressor, RandomForestRegressor, ExtraTreesRegressor, BaggingRegressor\n",
    "from sklearn.svm import SVR\n",
    "from sklearn.neighbors import KNeighborsRegressor\n",
    "from sklearn.linear_model import LinearRegression, Ridge\n",
    "from sklearn.preprocessing import PolynomialFeatures\n",
    "\n",
    "from statsmodels.stats.outliers_influence import variance_inflation_factor\n",
    "from bayes_opt import BayesianOptimization\n",
    "\n",
    "import optuna\n",
    "\n",
    "from rdkit import Chem\n",
    "from rdkit.Chem.Draw import IPythonConsole, rdMolDraw2D\n",
    "from rdkit.Chem import AllChem, rdDepictor, MolFromSmiles, Descriptors, rdMolDescriptors, Crippen, QED, EState, Lipinski, MolSurf, Fragments\n",
    "\n",
    "import deepchem as dc\n",
    "from deepchem.feat.molecule_featurizers import MolGraphConvFeaturizer\n",
    "from deepchem.feat import RDKitDescriptors\n",
    "\n",
    "# 시각화 라이브러리\n",
    "from matplotlib import pyplot as plt\n",
    "import seaborn as sns\n",
    "%matplotlib inline\n",
    "\n",
    "import xgboost as xgb\n",
    "import catboost as cat\n",
    "import lightgbm as lgb"
   ]
  },
  {
   "cell_type": "code",
   "execution_count": 256,
   "metadata": {},
   "outputs": [],
   "source": [
    "CFG = {'SEED' : 1218,}"
   ]
  },
  {
   "cell_type": "code",
   "execution_count": 257,
   "metadata": {},
   "outputs": [],
   "source": [
    "def seed_everything(seed):\n",
    "    random.seed(seed)\n",
    "    os.environ['PYTHONHASHSEED'] = str(seed)\n",
    "    np.random.seed(seed)\n",
    "    check_random_state(seed)\n",
    "\n",
    "seed_everything(CFG['SEED']) # Seed 고정"
   ]
  },
  {
   "cell_type": "code",
   "execution_count": 258,
   "metadata": {},
   "outputs": [],
   "source": [
    "train_mlm = pd.read_csv('./Data/eda/mlm_or.csv')\n",
    "train_hlm = pd.read_csv('./Data/eda/hlm_or.csv')\n",
    "test_mlm = pd.read_csv('./Data/eda/mlm_or_test.csv')\n",
    "test_hlm = pd.read_csv('./Data/eda/hlm_or_test.csv')"
   ]
  },
  {
   "cell_type": "code",
   "execution_count": 259,
   "metadata": {},
   "outputs": [],
   "source": [
    "X_mlm = train_mlm.drop(['MLM'], axis=1)\n",
    "y_mlm = train_mlm['MLM']\n",
    "X_hlm = train_hlm.drop(['HLM'], axis=1)\n",
    "y_hlm = train_hlm['HLM']"
   ]
  },
  {
   "cell_type": "code",
   "execution_count": 260,
   "metadata": {},
   "outputs": [],
   "source": [
    "knn = KNeighborsRegressor(n_neighbors=10, n_jobs=-1)\n",
    "bagging = BaggingRegressor(n_estimators=15, n_jobs=-1, random_state=CFG['SEED'])\n",
    "ets = ExtraTreesRegressor(n_estimators=200, n_jobs=-1, random_state=CFG['SEED'])\n",
    "rf = RandomForestRegressor(n_estimators=200, n_jobs=-1, random_state=CFG['SEED'])\n",
    "xgb = xgb.XGBRegressor(n_estimators=200, n_jobs=-1, random_state=CFG['SEED'])\n",
    "lgbm = lgb.LGBMRegressor(n_estimators=200, n_jobs=-1, random_state=CFG['SEED'])"
   ]
  },
  {
   "cell_type": "code",
   "execution_count": 261,
   "metadata": {},
   "outputs": [],
   "source": [
    "scaler = RobustScaler()\n",
    "train_mlm_scaled = scaler.fit_transform(X_mlm)\n",
    "test_mlm_scaled = scaler.transform(test_mlm)"
   ]
  },
  {
   "cell_type": "code",
   "execution_count": 262,
   "metadata": {},
   "outputs": [],
   "source": [
    "def get_stacking_ml_datasets(model, X_train_n, y_train_n, X_test_n, n_folds):\n",
    "    \n",
    "    kf = KFold(n_splits=n_folds, shuffle=True, random_state=CFG['SEED'])\n",
    "    \n",
    "    train_fold_pred = np.zeros((X_train_n.shape[0], 1))\n",
    "    test_pred = np.zeros((X_test_n.shape[0], n_folds))\n",
    "    \n",
    "    for folder_counter, (train_index, valid_index) in enumerate(kf.split(X_train_n, y_train_n)):\n",
    "        X_tr = X_train_n[train_index]\n",
    "        y_tr = y_train_n[train_index]\n",
    "        X_te = X_train_n[valid_index]\n",
    "        \n",
    "        model.fit(X_tr, y_tr)\n",
    "        train_fold_pred[valid_index, :] = model.predict(X_te).reshape(-1,1)\n",
    "        test_pred[:, folder_counter] = model.predict(X_test_n)\n",
    "        \n",
    "    test_pred_mean = np.mean(test_pred, axis=1).reshape(-1,1)    \n",
    "    \n",
    "    return train_fold_pred, test_pred_mean"
   ]
  },
  {
   "cell_type": "code",
   "execution_count": 263,
   "metadata": {},
   "outputs": [
    {
     "name": "stdout",
     "output_type": "stream",
     "text": [
      "KNeighborsRegressor(n_jobs=-1, n_neighbors=10)\n",
      "BaggingRegressor(n_estimators=15, n_jobs=-1, random_state=1218)\n",
      "ExtraTreesRegressor(n_estimators=200, n_jobs=-1, random_state=1218)\n",
      "RandomForestRegressor(n_estimators=200, n_jobs=-1, random_state=1218)\n",
      "XGBRegressor(base_score=None, booster=None, callbacks=None,\n",
      "             colsample_bylevel=None, colsample_bynode=None,\n",
      "             colsample_bytree=None, early_stopping_rounds=None,\n",
      "             enable_categorical=False, eval_metric=None, feature_types=None,\n",
      "             gamma=None, gpu_id=None, grow_policy=None, importance_type=None,\n",
      "             interaction_constraints=None, learning_rate=None, max_bin=None,\n",
      "             max_cat_threshold=None, max_cat_to_onehot=None,\n",
      "             max_delta_step=None, max_depth=None, max_leaves=None,\n",
      "             min_child_weight=None, missing=nan, monotone_constraints=None,\n",
      "             n_estimators=200, n_jobs=-1, num_parallel_tree=None,\n",
      "             predictor=None, random_state=1218, ...)\n",
      "LGBMRegressor(n_estimators=200, n_jobs=-1, random_state=1218)\n",
      "[LightGBM] [Info] Auto-choosing row-wise multi-threading, the overhead of testing was 0.002407 seconds.\n",
      "You can set `force_row_wise=true` to remove the overhead.\n",
      "And if memory is not enough, you can set `force_col_wise=true`.\n",
      "[LightGBM] [Info] Total Bins 13020\n",
      "[LightGBM] [Info] Number of data points in the train set: 2918, number of used features: 82\n",
      "[LightGBM] [Info] Start training from score 37.149987\n",
      "[LightGBM] [Info] Auto-choosing col-wise multi-threading, the overhead of testing was 0.001219 seconds.\n",
      "You can set `force_col_wise=true` to remove the overhead.\n",
      "[LightGBM] [Info] Total Bins 13021\n",
      "[LightGBM] [Info] Number of data points in the train set: 2918, number of used features: 82\n",
      "[LightGBM] [Info] Start training from score 37.179450\n",
      "[LightGBM] [Info] Auto-choosing col-wise multi-threading, the overhead of testing was 0.001349 seconds.\n",
      "You can set `force_col_wise=true` to remove the overhead.\n",
      "[LightGBM] [Info] Total Bins 13023\n",
      "[LightGBM] [Info] Number of data points in the train set: 2918, number of used features: 82\n",
      "[LightGBM] [Info] Start training from score 36.812000\n",
      "[LightGBM] [Info] Auto-choosing col-wise multi-threading, the overhead of testing was 0.001359 seconds.\n",
      "You can set `force_col_wise=true` to remove the overhead.\n",
      "[LightGBM] [Info] Total Bins 13024\n",
      "[LightGBM] [Info] Number of data points in the train set: 2918, number of used features: 82\n",
      "[LightGBM] [Info] Start training from score 36.949408\n",
      "[LightGBM] [Info] Auto-choosing row-wise multi-threading, the overhead of testing was 0.001037 seconds.\n",
      "You can set `force_row_wise=true` to remove the overhead.\n",
      "And if memory is not enough, you can set `force_col_wise=true`.\n",
      "[LightGBM] [Info] Total Bins 13018\n",
      "[LightGBM] [Info] Number of data points in the train set: 2918, number of used features: 82\n",
      "[LightGBM] [Info] Start training from score 37.051473\n",
      "[LightGBM] [Info] Auto-choosing col-wise multi-threading, the overhead of testing was 0.001476 seconds.\n",
      "You can set `force_col_wise=true` to remove the overhead.\n",
      "[LightGBM] [Info] Total Bins 13027\n",
      "[LightGBM] [Info] Number of data points in the train set: 2918, number of used features: 82\n",
      "[LightGBM] [Info] Start training from score 37.233658\n",
      "[LightGBM] [Info] Auto-choosing col-wise multi-threading, the overhead of testing was 0.001528 seconds.\n",
      "You can set `force_col_wise=true` to remove the overhead.\n",
      "[LightGBM] [Info] Total Bins 13022\n",
      "[LightGBM] [Info] Number of data points in the train set: 2918, number of used features: 82\n",
      "[LightGBM] [Info] Start training from score 37.216305\n",
      "[LightGBM] [Info] Auto-choosing col-wise multi-threading, the overhead of testing was 0.001923 seconds.\n",
      "You can set `force_col_wise=true` to remove the overhead.\n",
      "[LightGBM] [Info] Total Bins 13016\n",
      "[LightGBM] [Info] Number of data points in the train set: 2919, number of used features: 82\n",
      "[LightGBM] [Info] Start training from score 36.916115\n"
     ]
    },
    {
     "data": {
      "text/plain": [
       "((3335, 6), (483, 6))"
      ]
     },
     "execution_count": 263,
     "metadata": {},
     "output_type": "execute_result"
    }
   ],
   "source": [
    "best_ml = [\n",
    "    knn, bagging, ets, rf, xgb, lgbm\n",
    "]\n",
    "\n",
    "meta_ml_mlm_X_train=[]\n",
    "meta_ml_mlm_X_test=[]\n",
    "\n",
    "for estimator in best_ml:\n",
    "\n",
    "    print(estimator)\n",
    "    \n",
    "    temp_X_train, temp_X_test = get_stacking_ml_datasets(estimator, train_mlm_scaled, y_mlm, test_mlm_scaled, 8)\n",
    "    \n",
    "    meta_ml_mlm_X_train.append(temp_X_train)\n",
    "    meta_ml_mlm_X_test.append(temp_X_test)\n",
    "    \n",
    "meta_ml_mlm_X_train=np.hstack(meta_ml_mlm_X_train)\n",
    "meta_ml_mlm_X_test=np.hstack(meta_ml_mlm_X_test)\n",
    "\n",
    "meta_ml_mlm_X_train.shape, meta_ml_mlm_X_test.shape"
   ]
  },
  {
   "cell_type": "code",
   "execution_count": 264,
   "metadata": {},
   "outputs": [
    {
     "data": {
      "text/plain": [
       "(483,)"
      ]
     },
     "execution_count": 264,
     "metadata": {},
     "output_type": "execute_result"
    }
   ],
   "source": [
    "meta_clf_mlm = LinearRegression()\n",
    "meta_clf_mlm.fit(meta_ml_mlm_X_train, y_mlm)\n",
    "prediction_mlm = meta_clf_mlm.predict(meta_ml_mlm_X_test)\n",
    "prediction_mlm.shape"
   ]
  },
  {
   "cell_type": "code",
   "execution_count": 265,
   "metadata": {},
   "outputs": [],
   "source": [
    "train_hlm_scaled = scaler.fit_transform(X_hlm)\n",
    "test_hlm_scaled = scaler.transform(pd.concat([pd.DataFrame(prediction_mlm, columns=['MLM']), test_hlm], axis=1))"
   ]
  },
  {
   "cell_type": "code",
   "execution_count": 266,
   "metadata": {},
   "outputs": [
    {
     "name": "stdout",
     "output_type": "stream",
     "text": [
      "KNeighborsRegressor(n_jobs=-1, n_neighbors=10)\n",
      "BaggingRegressor(n_estimators=15, n_jobs=-1, random_state=1218)\n",
      "ExtraTreesRegressor(n_estimators=200, n_jobs=-1, random_state=1218)\n",
      "RandomForestRegressor(n_estimators=200, n_jobs=-1, random_state=1218)\n",
      "XGBRegressor(base_score=None, booster=None, callbacks=None,\n",
      "             colsample_bylevel=None, colsample_bynode=None,\n",
      "             colsample_bytree=None, early_stopping_rounds=None,\n",
      "             enable_categorical=False, eval_metric=None, feature_types=None,\n",
      "             gamma=None, gpu_id=None, grow_policy=None, importance_type=None,\n",
      "             interaction_constraints=None, learning_rate=None, max_bin=None,\n",
      "             max_cat_threshold=None, max_cat_to_onehot=None,\n",
      "             max_delta_step=None, max_depth=None, max_leaves=None,\n",
      "             min_child_weight=None, missing=nan, monotone_constraints=None,\n",
      "             n_estimators=200, n_jobs=-1, num_parallel_tree=None,\n",
      "             predictor=None, random_state=1218, ...)\n",
      "LGBMRegressor(n_estimators=200, n_jobs=-1, random_state=1218)\n",
      "[LightGBM] [Info] Auto-choosing row-wise multi-threading, the overhead of testing was 0.001854 seconds.\n",
      "You can set `force_row_wise=true` to remove the overhead.\n",
      "And if memory is not enough, you can set `force_col_wise=true`.\n",
      "[LightGBM] [Info] Total Bins 12254\n",
      "[LightGBM] [Info] Number of data points in the train set: 2918, number of used features: 80\n",
      "[LightGBM] [Info] Start training from score 53.312826\n",
      "[LightGBM] [Info] Auto-choosing col-wise multi-threading, the overhead of testing was 0.001490 seconds.\n",
      "You can set `force_col_wise=true` to remove the overhead.\n",
      "[LightGBM] [Info] Total Bins 12248\n",
      "[LightGBM] [Info] Number of data points in the train set: 2918, number of used features: 80\n",
      "[LightGBM] [Info] Start training from score 53.191707\n",
      "[LightGBM] [Info] Auto-choosing col-wise multi-threading, the overhead of testing was 0.001447 seconds.\n",
      "You can set `force_col_wise=true` to remove the overhead.\n",
      "[LightGBM] [Info] Total Bins 12251\n",
      "[LightGBM] [Info] Number of data points in the train set: 2918, number of used features: 80\n",
      "[LightGBM] [Info] Start training from score 52.877453\n",
      "[LightGBM] [Info] Auto-choosing row-wise multi-threading, the overhead of testing was 0.000912 seconds.\n",
      "You can set `force_row_wise=true` to remove the overhead.\n",
      "And if memory is not enough, you can set `force_col_wise=true`.\n",
      "[LightGBM] [Info] Total Bins 12253\n",
      "[LightGBM] [Info] Number of data points in the train set: 2918, number of used features: 80\n",
      "[LightGBM] [Info] Start training from score 52.892565\n",
      "[LightGBM] [Info] Auto-choosing col-wise multi-threading, the overhead of testing was 0.001505 seconds.\n",
      "You can set `force_col_wise=true` to remove the overhead.\n",
      "[LightGBM] [Info] Total Bins 12249\n",
      "[LightGBM] [Info] Number of data points in the train set: 2918, number of used features: 80\n",
      "[LightGBM] [Info] Start training from score 53.092123\n",
      "[LightGBM] [Info] Auto-choosing col-wise multi-threading, the overhead of testing was 0.001606 seconds.\n",
      "You can set `force_col_wise=true` to remove the overhead.\n",
      "[LightGBM] [Info] Total Bins 12255\n",
      "[LightGBM] [Info] Number of data points in the train set: 2918, number of used features: 80\n",
      "[LightGBM] [Info] Start training from score 52.914972\n",
      "[LightGBM] [Info] Auto-choosing col-wise multi-threading, the overhead of testing was 0.001537 seconds.\n",
      "You can set `force_col_wise=true` to remove the overhead.\n",
      "[LightGBM] [Info] Total Bins 12251\n",
      "[LightGBM] [Info] Number of data points in the train set: 2918, number of used features: 80\n",
      "[LightGBM] [Info] Start training from score 53.132337\n",
      "[LightGBM] [Info] Auto-choosing col-wise multi-threading, the overhead of testing was 0.001417 seconds.\n",
      "You can set `force_col_wise=true` to remove the overhead.\n",
      "[LightGBM] [Info] Total Bins 12249\n",
      "[LightGBM] [Info] Number of data points in the train set: 2919, number of used features: 80\n",
      "[LightGBM] [Info] Start training from score 53.052793\n"
     ]
    },
    {
     "data": {
      "text/plain": [
       "((3335, 6), (483, 6))"
      ]
     },
     "execution_count": 266,
     "metadata": {},
     "output_type": "execute_result"
    }
   ],
   "source": [
    "best_ml = [\n",
    "    knn, bagging, ets, rf, xgb, lgbm\n",
    "]\n",
    "\n",
    "meta_ml_hlm_X_train=[]\n",
    "meta_ml_hlm_X_test=[]\n",
    "\n",
    "for estimator in best_ml:\n",
    "\n",
    "    print(estimator)\n",
    "    \n",
    "    temp_X_train, temp_X_test = get_stacking_ml_datasets(estimator, train_hlm_scaled, y_hlm, test_hlm_scaled, 8)\n",
    "    \n",
    "    meta_ml_hlm_X_train.append(temp_X_train)\n",
    "    meta_ml_hlm_X_test.append(temp_X_test)\n",
    "    \n",
    "meta_ml_hlm_X_train=np.hstack(meta_ml_hlm_X_train)\n",
    "meta_ml_hlm_X_test=np.hstack(meta_ml_hlm_X_test)\n",
    "\n",
    "meta_ml_hlm_X_train.shape, meta_ml_hlm_X_test.shape"
   ]
  },
  {
   "cell_type": "code",
   "execution_count": 267,
   "metadata": {},
   "outputs": [
    {
     "data": {
      "text/plain": [
       "(483,)"
      ]
     },
     "execution_count": 267,
     "metadata": {},
     "output_type": "execute_result"
    }
   ],
   "source": [
    "meta_clf_hlm = LinearRegression()\n",
    "meta_clf_hlm.fit(meta_ml_hlm_X_train, y_hlm)\n",
    "prediction_hlm = meta_clf_hlm.predict(meta_ml_hlm_X_test)\n",
    "prediction_hlm.shape"
   ]
  },
  {
   "cell_type": "code",
   "execution_count": 268,
   "metadata": {},
   "outputs": [],
   "source": [
    "sample_submission = pd.read_csv('./Data/sample_submission.csv')\n",
    "sample_submission['MLM'] = np.round(prediction_mlm, 3)\n",
    "sample_submission['HLM'] = np.round(prediction_hlm, 3)\n",
    "sample_submission.to_csv('./Data/result.csv', index=False)\n"
   ]
  },
  {
   "cell_type": "code",
   "execution_count": 269,
   "metadata": {},
   "outputs": [],
   "source": [
    "sample_submission['MLM'] = prediction_mlm\n",
    "sample_submission['HLM'] = prediction_hlm\n",
    "sample_submission.to_csv('./Data/result.csv', index=False)"
   ]
  },
  {
   "cell_type": "code",
   "execution_count": 270,
   "metadata": {},
   "outputs": [
    {
     "data": {
      "text/html": [
       "<div>\n",
       "<style scoped>\n",
       "    .dataframe tbody tr th:only-of-type {\n",
       "        vertical-align: middle;\n",
       "    }\n",
       "\n",
       "    .dataframe tbody tr th {\n",
       "        vertical-align: top;\n",
       "    }\n",
       "\n",
       "    .dataframe thead th {\n",
       "        text-align: right;\n",
       "    }\n",
       "</style>\n",
       "<table border=\"1\" class=\"dataframe\">\n",
       "  <thead>\n",
       "    <tr style=\"text-align: right;\">\n",
       "      <th></th>\n",
       "      <th>id</th>\n",
       "      <th>MLM</th>\n",
       "      <th>HLM</th>\n",
       "    </tr>\n",
       "  </thead>\n",
       "  <tbody>\n",
       "    <tr>\n",
       "      <th>0</th>\n",
       "      <td>TEST_000</td>\n",
       "      <td>32.061913</td>\n",
       "      <td>60.431817</td>\n",
       "    </tr>\n",
       "    <tr>\n",
       "      <th>1</th>\n",
       "      <td>TEST_001</td>\n",
       "      <td>67.021763</td>\n",
       "      <td>80.799370</td>\n",
       "    </tr>\n",
       "    <tr>\n",
       "      <th>2</th>\n",
       "      <td>TEST_002</td>\n",
       "      <td>33.794770</td>\n",
       "      <td>56.895206</td>\n",
       "    </tr>\n",
       "    <tr>\n",
       "      <th>3</th>\n",
       "      <td>TEST_003</td>\n",
       "      <td>53.192534</td>\n",
       "      <td>71.388337</td>\n",
       "    </tr>\n",
       "    <tr>\n",
       "      <th>4</th>\n",
       "      <td>TEST_004</td>\n",
       "      <td>69.056130</td>\n",
       "      <td>84.283030</td>\n",
       "    </tr>\n",
       "    <tr>\n",
       "      <th>...</th>\n",
       "      <td>...</td>\n",
       "      <td>...</td>\n",
       "      <td>...</td>\n",
       "    </tr>\n",
       "    <tr>\n",
       "      <th>478</th>\n",
       "      <td>TEST_478</td>\n",
       "      <td>16.232891</td>\n",
       "      <td>48.329463</td>\n",
       "    </tr>\n",
       "    <tr>\n",
       "      <th>479</th>\n",
       "      <td>TEST_479</td>\n",
       "      <td>79.879078</td>\n",
       "      <td>89.530158</td>\n",
       "    </tr>\n",
       "    <tr>\n",
       "      <th>480</th>\n",
       "      <td>TEST_480</td>\n",
       "      <td>48.969263</td>\n",
       "      <td>68.816722</td>\n",
       "    </tr>\n",
       "    <tr>\n",
       "      <th>481</th>\n",
       "      <td>TEST_481</td>\n",
       "      <td>53.646228</td>\n",
       "      <td>72.421940</td>\n",
       "    </tr>\n",
       "    <tr>\n",
       "      <th>482</th>\n",
       "      <td>TEST_482</td>\n",
       "      <td>32.839793</td>\n",
       "      <td>65.452522</td>\n",
       "    </tr>\n",
       "  </tbody>\n",
       "</table>\n",
       "<p>483 rows × 3 columns</p>\n",
       "</div>"
      ],
      "text/plain": [
       "           id        MLM        HLM\n",
       "0    TEST_000  32.061913  60.431817\n",
       "1    TEST_001  67.021763  80.799370\n",
       "2    TEST_002  33.794770  56.895206\n",
       "3    TEST_003  53.192534  71.388337\n",
       "4    TEST_004  69.056130  84.283030\n",
       "..        ...        ...        ...\n",
       "478  TEST_478  16.232891  48.329463\n",
       "479  TEST_479  79.879078  89.530158\n",
       "480  TEST_480  48.969263  68.816722\n",
       "481  TEST_481  53.646228  72.421940\n",
       "482  TEST_482  32.839793  65.452522\n",
       "\n",
       "[483 rows x 3 columns]"
      ]
     },
     "execution_count": 270,
     "metadata": {},
     "output_type": "execute_result"
    }
   ],
   "source": [
    "sample_submission"
   ]
  },
  {
   "cell_type": "code",
   "execution_count": 271,
   "metadata": {},
   "outputs": [],
   "source": [
    "result = (sample_submission.iloc[:, 1:] + pd.read_csv('./Data/graph.csv').iloc[:, 1:])/2\n",
    "pd.concat([sample_submission.iloc[:, :1], result], axis=1).to_csv('./Data/result.csv', index=False)"
   ]
  },
  {
   "cell_type": "code",
   "execution_count": 272,
   "metadata": {},
   "outputs": [
    {
     "data": {
      "image/png": "[encoded data removed]",
      "text/plain": [
       "<Figure size 1200x600 with 1 Axes>"
      ]
     },
     "metadata": {},
     "output_type": "display_data"
    },
    {
     "data": {
      "text/html": [
       "<div>\n",
       "<style scoped>\n",
       "    .dataframe tbody tr th:only-of-type {\n",
       "        vertical-align: middle;\n",
       "    }\n",
       "\n",
       "    .dataframe tbody tr th {\n",
       "        vertical-align: top;\n",
       "    }\n",
       "\n",
       "    .dataframe thead th {\n",
       "        text-align: right;\n",
       "    }\n",
       "</style>\n",
       "<table border=\"1\" class=\"dataframe\">\n",
       "  <thead>\n",
       "    <tr style=\"text-align: right;\">\n",
       "      <th></th>\n",
       "      <th>MLM</th>\n",
       "      <th>HLM</th>\n",
       "    </tr>\n",
       "  </thead>\n",
       "  <tbody>\n",
       "    <tr>\n",
       "      <th>count</th>\n",
       "      <td>483.000000</td>\n",
       "      <td>483.000000</td>\n",
       "    </tr>\n",
       "    <tr>\n",
       "      <th>mean</th>\n",
       "      <td>38.628678</td>\n",
       "      <td>60.532278</td>\n",
       "    </tr>\n",
       "    <tr>\n",
       "      <th>std</th>\n",
       "      <td>17.475395</td>\n",
       "      <td>13.425911</td>\n",
       "    </tr>\n",
       "    <tr>\n",
       "      <th>min</th>\n",
       "      <td>7.776628</td>\n",
       "      <td>22.047308</td>\n",
       "    </tr>\n",
       "    <tr>\n",
       "      <th>25%</th>\n",
       "      <td>24.984570</td>\n",
       "      <td>49.849971</td>\n",
       "    </tr>\n",
       "    <tr>\n",
       "      <th>50%</th>\n",
       "      <td>35.128773</td>\n",
       "      <td>59.363937</td>\n",
       "    </tr>\n",
       "    <tr>\n",
       "      <th>75%</th>\n",
       "      <td>49.144993</td>\n",
       "      <td>71.208349</td>\n",
       "    </tr>\n",
       "    <tr>\n",
       "      <th>max</th>\n",
       "      <td>87.176304</td>\n",
       "      <td>91.843520</td>\n",
       "    </tr>\n",
       "  </tbody>\n",
       "</table>\n",
       "</div>"
      ],
      "text/plain": [
       "              MLM         HLM\n",
       "count  483.000000  483.000000\n",
       "mean    38.628678   60.532278\n",
       "std     17.475395   13.425911\n",
       "min      7.776628   22.047308\n",
       "25%     24.984570   49.849971\n",
       "50%     35.128773   59.363937\n",
       "75%     49.144993   71.208349\n",
       "max     87.176304   91.843520"
      ]
     },
     "execution_count": 272,
     "metadata": {},
     "output_type": "execute_result"
    }
   ],
   "source": [
    "# 타겟 예측값 살펴보기\n",
    "desc_stats = sample_submission[['MLM', 'HLM']].describe()\n",
    "\n",
    "# Plot histograms for MLM and HLM\n",
    "plt.figure(figsize=(12, 6))\n",
    "\n",
    "plt.hist(sample_submission['MLM'], bins=50, alpha=0.5, label='MLM')\n",
    "plt.hist(sample_submission['HLM'], bins=50, alpha=0.5, label='HLM')\n",
    "\n",
    "plt.title('Distribution of MLM vs HLM')\n",
    "plt.xlabel('Value')\n",
    "plt.ylabel('Frequency')\n",
    "plt.legend(loc='upper right')\n",
    "\n",
    "plt.tight_layout()\n",
    "plt.show()\n",
    "\n",
    "desc_stats"
   ]
  }
 ],
 "metadata": {
  "kernelspec": {
   "display_name": "Autogluon",
   "language": "python",
   "name": "python3"
  },
  "language_info": {
   "codemirror_mode": {
    "name": "ipython",
    "version": 3
   },
   "file_extension": ".py",
   "mimetype": "text/x-python",
   "name": "python",
   "nbconvert_exporter": "python",
   "pygments_lexer": "ipython3",
   "version": "3.9.12"
  },
  "orig_nbformat": 4
 },
 "nbformat": 4,
 "nbformat_minor": 2
}
